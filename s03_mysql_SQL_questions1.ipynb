{
 "cells": [
  {
   "cell_type": "markdown",
   "id": "7fb78ff4",
   "metadata": {},
   "source": [
    "### SQL Interview Questions\n",
    "\n",
    "using MySQL and Python"
   ]
  },
  {
   "cell_type": "markdown",
   "id": "35ceeda8",
   "metadata": {},
   "source": [
    "Installing mysql on mac is easy.\n",
    "\n",
    " - https://dev.mysql.com/doc/refman/5.7/en/macos-installation-pkg.html\n",
    " - https://dev.mysql.com/downloads/mysql/\n",
    "\n",
    "You download Intel-based dmg installer (mysql-8.0.28-macos11-x86_64.dmg)\n",
    "and follow instructions.\n",
    "\n",
    "Note:\n",
    "  About new Mac with M1 chip and python.\n",
    "  As of this writing in January 2022 I recommend to use Intel-based installers.\n",
    "  Native (to ARM M1 chip) version of python has appeared in July of 2021.\n",
    "  But it is still too new, many modules are not supported yet. \n",
    "  Even today if you look at the official anaconda download page,\n",
    "  there is no support for ARM.\n",
    "\n",
    "Note:\n",
    "<br>You will be asked to create root password during the installation.\n",
    "<br>Or you can do it from terminal: \n",
    "``` code\n",
    "mysqladmin -u root password YOURNEWPASSWORD\n",
    "```\n",
    "\n",
    "Add the root password into config file in your home directory:\n",
    "\n",
    "```\n",
    "vi ~/.my.cnf\n",
    "\n",
    "[mysql]\n",
    "user=root\n",
    "password=YOURNEWPASSWORD\n",
    "```\n",
    "\n",
    "save - and change permissions:\n",
    "```\n",
    "chmod 0600 .my.cnf\n",
    "```\n",
    "\n",
    "edit .bashrc - add path to mysql executables like this:\n",
    "\n",
    "```\n",
    "PATH=$PATH:/usr/local/mysql/bin\n",
    "```\n",
    "\n",
    "Restart terminal.\n",
    "Now you can start mysql prompt with \"mysql\" command\n",
    "\n",
    "Once on mysql prompt, you can start working with SQL:\n",
    "\n",
    "```\n",
    "show databases;\n",
    "create database testdb;\n",
    "use testdb;\n",
    "create table t1 ( i1 int null, c1 varchar(80) null );\n",
    "show tables;\n",
    "insert into t1 values (1,'a');\n",
    "insert into t1 values (2,'b');\n",
    "select * from t1;\n",
    "exit\n",
    "```"
   ]
  },
  {
   "cell_type": "markdown",
   "id": "09dd7b3b",
   "metadata": {},
   "source": [
    "To work with mysql from python - look at this python file:\n",
    "\n",
    "https://github.com/lselector/setup_computer/blob/master/py_lib/myutil_mysql.py\n",
    "\n",
    "```\n",
    "pip install mysql-connector-python\n",
    "```"
   ]
  },
  {
   "cell_type": "code",
   "execution_count": 1,
   "id": "3c8cfd9e",
   "metadata": {},
   "outputs": [
    {
     "name": "stdout",
     "output_type": "stream",
     "text": [
      "     .\n",
      "     /Users/maltethesenvitz/Documents/GitHub/db\n",
      "     /Users/maltethesenvitz/Documents/GitHub/db\n",
      "     /Users/maltethesenvitz/docs/py_lib\n",
      "     /Users/maltethesenvitz/anaconda3/lib/python39.zip\n",
      "     /Users/maltethesenvitz/anaconda3/lib/python3.9\n",
      "     /Users/maltethesenvitz/anaconda3/lib/python3.9/lib-dynload\n",
      "     \n",
      "     /Users/maltethesenvitz/anaconda3/lib/python3.9/site-packages\n",
      "     /Users/maltethesenvitz/anaconda3/lib/python3.9/site-packages/aeosa\n",
      "     /Users/maltethesenvitz/anaconda3/lib/python3.9/site-packages/locket-0.2.1-py3.9.egg\n",
      "     /Users/maltethesenvitz/anaconda3/lib/python3.9/site-packages/IPython/extensions\n",
      "     /Users/maltethesenvitz/.ipython\n"
     ]
    }
   ],
   "source": [
    "import os, sys\n",
    "\n",
    "# add current directory to search path\n",
    "if \".\" not in sys.path:\n",
    "    sys.path = [\".\"] + sys.path\n",
    "\n",
    "for p in sys.path:\n",
    "    print(\"    \", p)"
   ]
  },
  {
   "cell_type": "code",
   "execution_count": 3,
   "id": "fef2b9f1",
   "metadata": {},
   "outputs": [
    {
     "name": "stdout",
     "output_type": "stream",
     "text": [
      "   i1 c1\n",
      "0   1  a\n",
      "1   2  b\n"
     ]
    }
   ],
   "source": [
    "import mysql.connector as connection\n",
    "import pandas as pd\n",
    "\n",
    "mysql_pwd = os.getenv('MYSQL_PWD')\n",
    "mysql_conn = None # connection\n",
    "try:\n",
    "    cnx = connection.connect(\n",
    "        host     = \"localhost\", \n",
    "        database = 'testdb',\n",
    "        user     = \"root\", \n",
    "        passwd   = mysql_pwd,\n",
    "        use_pure = True)\n",
    "\n",
    "    sql = \"select * from t1;\"\n",
    "    \n",
    "    df = pd.read_sql(sql, cnx)\n",
    "\n",
    "    print(df)\n",
    "\n",
    "except Exception as e:\n",
    "    cnx.close()\n",
    "    print(str(e))"
   ]
  },
  {
   "cell_type": "code",
   "execution_count": 5,
   "id": "ccfe6329",
   "metadata": {},
   "outputs": [
    {
     "data": {
      "text/plain": [
       "['__builtins__',\n",
       " '__cached__',\n",
       " '__doc__',\n",
       " '__file__',\n",
       " '__loader__',\n",
       " '__name__',\n",
       " '__package__',\n",
       " '__spec__',\n",
       " 'connect_to_mysql',\n",
       " 'dbquote',\n",
       " 'do_query',\n",
       " 'do_sql',\n",
       " 'dt',\n",
       " 'mysql',\n",
       " 'np',\n",
       " 'os',\n",
       " 'pd',\n",
       " 're',\n",
       " 'remove_extra_indents',\n",
       " 'sys',\n",
       " 'time']"
      ]
     },
     "execution_count": 5,
     "metadata": {},
     "output_type": "execute_result"
    }
   ],
   "source": [
    "import myutil_mysql\n",
    "from myutil_mysql import *\n",
    "dir(myutil_mysql)"
   ]
  },
  {
   "cell_type": "code",
   "execution_count": 6,
   "id": "e153774c",
   "metadata": {},
   "outputs": [],
   "source": [
    "# functions in myutil_mysql\n",
    "# remove_extra_indents(sql) \n",
    "#    - returns SQL string without extra indents on the left\n",
    "# dbquote(form, val)\n",
    "#    - convenience function to format your value \n",
    "#      \"val\" into a string with quotes\n",
    "# connect_to_mysql(myuser=None, mypasswd) \n",
    "#    - connects to the database\n",
    "#    - returns tuple (cnx, 0) \n",
    "# do_query(cnx, sql) - runs sql query, \n",
    "#    - returns tuple (df, error_code)\n",
    "# do_sql(cnx, sql) - runs sql, returns error code"
   ]
  },
  {
   "cell_type": "code",
   "execution_count": 7,
   "id": "a668dac5",
   "metadata": {},
   "outputs": [],
   "source": [
    "# create connection\n",
    "cnx,err = connect_to_mysql(myuser=\"root\", mypasswd=os.getenv(\"MYSQL_PWD\")) "
   ]
  },
  {
   "cell_type": "code",
   "execution_count": 8,
   "id": "14bc2575",
   "metadata": {},
   "outputs": [
    {
     "name": "stdout",
     "output_type": "stream",
     "text": [
      "   i1 c1\n",
      "0   1  a\n",
      "1   2  b\n"
     ]
    }
   ],
   "source": [
    "df,err = do_query(cnx, \"select * from t1;\")\n",
    "print(df)\n",
    "if err != 0:\n",
    "    print(\"ERROR:\",err)"
   ]
  },
  {
   "cell_type": "code",
   "execution_count": 12,
   "id": "d09b15d1",
   "metadata": {},
   "outputs": [
    {
     "name": "stdout",
     "output_type": "stream",
     "text": [
      "  Tables_in_testdb\n",
      "0               t1\n",
      "1               t2\n"
     ]
    }
   ],
   "source": [
    "# example using do_query() function\n",
    "df,err = do_query(cnx, \"show tables;\")\n",
    "print(df)\n",
    "if err != 0:\n",
    "    print(\"ERROR:\",err)"
   ]
  },
  {
   "cell_type": "code",
   "execution_count": 11,
   "id": "bf95729e",
   "metadata": {},
   "outputs": [],
   "source": [
    "sql = \"\"\"\n",
    "create table t2 (\n",
    "  a int null,\n",
    "  b int null,\n",
    "  c varchar(40) null\n",
    ");\n",
    "\"\"\"\n",
    "err = do_sql(cnx, sql)\n",
    "if err != 0:\n",
    "    print(\"ERROR:\",err)"
   ]
  },
  {
   "cell_type": "code",
   "execution_count": 13,
   "id": "972e9d00",
   "metadata": {},
   "outputs": [],
   "source": [
    "# function to generate random string\n",
    "import string\n",
    "from random import choices, randint"
   ]
  },
  {
   "cell_type": "code",
   "execution_count": 14,
   "id": "bb01aca8",
   "metadata": {},
   "outputs": [],
   "source": [
    "def rstr(mylen=5):\n",
    "    return ''.join(choices(string.ascii_letters,k=mylen))"
   ]
  },
  {
   "cell_type": "code",
   "execution_count": 17,
   "id": "acce5d9c",
   "metadata": {},
   "outputs": [],
   "source": [
    "# example using do_sql() function\n",
    "ri = randint(0,10)\n",
    "rs = rstr() # random string\n",
    "err = do_sql(cnx, f\"insert into t1 values({ri},'{rs}');\")\n",
    "if err != 0:\n",
    "    print(\"ERROR:\",err)"
   ]
  },
  {
   "cell_type": "code",
   "execution_count": 20,
   "id": "524c658f",
   "metadata": {},
   "outputs": [
    {
     "name": "stdout",
     "output_type": "stream",
     "text": [
      "   i1     c1\n",
      "0   1      a\n",
      "1   2      b\n",
      "2   2  IpTcH\n",
      "3   7  OqzKu\n"
     ]
    }
   ],
   "source": [
    "# example using do_query() function\n",
    "df,err = do_query(cnx, \"select * from t1 where c1 != 'cc';\")\n",
    "print(df)\n",
    "if err != 0:\n",
    "    print(\"ERROR:\",err)"
   ]
  },
  {
   "cell_type": "code",
   "execution_count": 25,
   "id": "2ff177d2",
   "metadata": {},
   "outputs": [
    {
     "name": "stdout",
     "output_type": "stream",
     "text": [
      "Empty DataFrame\n",
      "Columns: [Tables_in_testdb]\n",
      "Index: []\n"
     ]
    }
   ],
   "source": [
    "# Question\n",
    "# Given table with two columns: name and salary\n",
    "# Make a query to return name of someone who has 3rd largest salary\n",
    "# Note: if largest salaries are 100,100,100,100,90,90,90,90,80,80,80,80,...\n",
    "# it should return someone with salary = 80\n",
    "\n",
    "# todo:\n",
    "#   if table \"emp_salary\" does not exist:\n",
    "#      create it and populate with data\n",
    "#  run query to return name and salary for the 3rd largest salary value\n",
    "\n",
    "pass\n",
    "\n",
    "sql = \"\"\"\n",
    "show tables where Tables_in_testdb='emp_salary';\n",
    "\"\"\"\n",
    "df,err = do_query(cnx, sql)\n",
    "if len(df) >=1:\n",
    "    print(\"exists\")\n",
    "else:\n",
    "    print(\"not exists, need to create table and insert data\")\n",
    "    pass # create and insert\n",
    "\n"
   ]
  },
  {
   "cell_type": "code",
   "execution_count": null,
   "id": "ea3fdf1e",
   "metadata": {},
   "outputs": [],
   "source": []
  }
 ],
 "metadata": {
  "kernelspec": {
   "display_name": "Python 3 (ipykernel)",
   "language": "python",
   "name": "python3"
  },
  "language_info": {
   "codemirror_mode": {
    "name": "ipython",
    "version": 3
   },
   "file_extension": ".py",
   "mimetype": "text/x-python",
   "name": "python",
   "nbconvert_exporter": "python",
   "pygments_lexer": "ipython3",
   "version": "3.9.7"
  }
 },
 "nbformat": 4,
 "nbformat_minor": 5
}
