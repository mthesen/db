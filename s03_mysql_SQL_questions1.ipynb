{
 "cells": [
  {
   "cell_type": "markdown",
   "id": "7fb78ff4",
   "metadata": {},
   "source": [
    "### SQL Interview Questions\n",
    "\n",
    "using MySQL and Python"
   ]
  },
  {
   "cell_type": "markdown",
   "id": "35ceeda8",
   "metadata": {},
   "source": [
    "Installing mysql on mac is easy.\n",
    "\n",
    " - https://dev.mysql.com/doc/refman/5.7/en/macos-installation-pkg.html\n",
    " - https://dev.mysql.com/downloads/mysql/\n",
    "\n",
    "You download Intel-based dmg installer (mysql-8.0.28-macos11-x86_64.dmg)\n",
    "and follow instructions.\n",
    "\n",
    "Note:\n",
    "  About new Mac with M1 chip and python.\n",
    "  As of this writing in January 2022 I recommend to use Intel-based installers.\n",
    "  Native (to ARM M1 chip) version of python has appeared in July of 2021.\n",
    "  But it is still too new, many modules are not supported yet. \n",
    "  Even today if you look at the official anaconda download page,\n",
    "  there is no support for ARM.\n",
    "\n",
    "Note:\n",
    "<br>You will be asked to create root password during the installation.\n",
    "<br>Or you can do it from terminal: \n",
    "``` code\n",
    "mysqladmin -u root password YOURNEWPASSWORD\n",
    "```\n",
    "\n",
    "Add the root password into config file in your home directory:\n",
    "\n",
    "```\n",
    "vi ~/.my.cnf\n",
    "\n",
    "[mysql]\n",
    "user=root\n",
    "password=YOURNEWPASSWORD\n",
    "```\n",
    "\n",
    "save - and change permissions:\n",
    "```\n",
    "chmod 0600 .my.cnf\n",
    "```\n",
    "\n",
    "edit .bashrc - add path to mysql executables like this:\n",
    "\n",
    "```\n",
    "PATH=$PATH:/usr/local/mysql/bin\n",
    "```\n",
    "\n",
    "Restart terminal.\n",
    "Now you can start mysql prompt with \"mysql\" command\n",
    "\n",
    "Once on mysql prompt, you can start working with SQL:\n",
    "\n",
    "```\n",
    "show databases;\n",
    "create database testdb;\n",
    "use testdb;\n",
    "create table t1 ( i1 int null, c1 varchar(80) null );\n",
    "show tables;\n",
    "insert into t1 values (1,'a');\n",
    "insert into t1 values (2,'b');\n",
    "select * from t1;\n",
    "exit\n",
    "```"
   ]
  },
  {
   "cell_type": "markdown",
   "id": "09dd7b3b",
   "metadata": {},
   "source": [
    "To work with mysql from python - look at this python file:\n",
    "\n",
    "https://github.com/lselector/setup_computer/blob/master/py_lib/myutil_mysql.py\n",
    "\n",
    "```\n",
    "pip install mysql-connector-python\n",
    "```"
   ]
  },
  {
   "cell_type": "code",
   "execution_count": 1,
   "id": "3c8cfd9e",
   "metadata": {},
   "outputs": [
    {
     "name": "stdout",
     "output_type": "stream",
     "text": [
      "     .\n",
      "     /Users/maltethesenvitz/Documents/GitHub/db\n",
      "     /Users/maltethesenvitz/Documents/GitHub/db\n",
      "     /Users/maltethesenvitz/docs/py_lib\n",
      "     /Users/maltethesenvitz/anaconda3/lib/python39.zip\n",
      "     /Users/maltethesenvitz/anaconda3/lib/python3.9\n",
      "     /Users/maltethesenvitz/anaconda3/lib/python3.9/lib-dynload\n",
      "     \n",
      "     /Users/maltethesenvitz/anaconda3/lib/python3.9/site-packages\n",
      "     /Users/maltethesenvitz/anaconda3/lib/python3.9/site-packages/aeosa\n",
      "     /Users/maltethesenvitz/anaconda3/lib/python3.9/site-packages/locket-0.2.1-py3.9.egg\n",
      "     /Users/maltethesenvitz/anaconda3/lib/python3.9/site-packages/IPython/extensions\n",
      "     /Users/maltethesenvitz/.ipython\n"
     ]
    }
   ],
   "source": [
    "import os, sys\n",
    "\n",
    "# add current directory to search path\n",
    "if \".\" not in sys.path:\n",
    "    sys.path = [\".\"] + sys.path\n",
    "\n",
    "for p in sys.path:\n",
    "    print(\"    \", p)"
   ]
  },
  {
   "cell_type": "code",
   "execution_count": 2,
   "id": "fef2b9f1",
   "metadata": {},
   "outputs": [
    {
     "name": "stdout",
     "output_type": "stream",
     "text": [
      "    i1     c1\n",
      "0    1      a\n",
      "1    2      b\n",
      "2    2  IpTcH\n",
      "3    7  OqzKu\n",
      "4   10  eJQbY\n",
      "5    9  ttcnW\n",
      "6   10  PrgrJ\n",
      "7   10  xvoeY\n",
      "8    5  TgVDA\n",
      "9   10  ftIKo\n",
      "10   9  hSxSs\n"
     ]
    }
   ],
   "source": [
    "import mysql.connector as connection\n",
    "import pandas as pd\n",
    "\n",
    "mysql_pwd = os.getenv('MYSQL_PWD')\n",
    "mysql_conn = None # connection\n",
    "try:\n",
    "    cnx = connection.connect(\n",
    "        host     = \"localhost\", \n",
    "        database = 'testdb',\n",
    "        user     = \"root\", \n",
    "        passwd   = mysql_pwd,\n",
    "        use_pure = True)\n",
    "\n",
    "    sql = \"select * from t1;\"\n",
    "    \n",
    "    df = pd.read_sql(sql, cnx)\n",
    "\n",
    "    print(df)\n",
    "\n",
    "except Exception as e:\n",
    "    cnx.close()\n",
    "    print(str(e))"
   ]
  },
  {
   "cell_type": "code",
   "execution_count": 3,
   "id": "3fc0a89a",
   "metadata": {},
   "outputs": [
    {
     "name": "stdout",
     "output_type": "stream",
     "text": [
      "<mysql.connector.connection.MySQLConnection object at 0x7f9ebafacbb0>\n"
     ]
    }
   ],
   "source": [
    "print(cnx)"
   ]
  },
  {
   "cell_type": "code",
   "execution_count": 4,
   "id": "ccfe6329",
   "metadata": {},
   "outputs": [
    {
     "data": {
      "text/plain": [
       "['__builtins__',\n",
       " '__cached__',\n",
       " '__doc__',\n",
       " '__file__',\n",
       " '__loader__',\n",
       " '__name__',\n",
       " '__package__',\n",
       " '__spec__',\n",
       " 'connect_to_mysql',\n",
       " 'dbquote',\n",
       " 'do_query',\n",
       " 'do_sql',\n",
       " 'dt',\n",
       " 'mysql',\n",
       " 'np',\n",
       " 'os',\n",
       " 'pd',\n",
       " 're',\n",
       " 'remove_extra_indents',\n",
       " 'sys',\n",
       " 'time']"
      ]
     },
     "execution_count": 4,
     "metadata": {},
     "output_type": "execute_result"
    }
   ],
   "source": [
    "import myutil_mysql\n",
    "from myutil_mysql import *\n",
    "dir(myutil_mysql)"
   ]
  },
  {
   "cell_type": "code",
   "execution_count": 5,
   "id": "e153774c",
   "metadata": {},
   "outputs": [],
   "source": [
    "# functions in myutil_mysql\n",
    "# remove_extra_indents(sql) \n",
    "#    - returns SQL string without extra indents on the left\n",
    "# dbquote(form, val)\n",
    "#    - convenience function to format your value \n",
    "#      \"val\" into a string with quotes\n",
    "# connect_to_mysql(myuser=None, mypasswd) \n",
    "#    - connects to the database\n",
    "#    - returns tuple (cnx, 0) \n",
    "# do_query(cnx, sql) - runs sql query, \n",
    "#    - returns tuple (df, error_code)\n",
    "# do_sql(cnx, sql) - runs sql, returns error code"
   ]
  },
  {
   "cell_type": "code",
   "execution_count": 6,
   "id": "a668dac5",
   "metadata": {},
   "outputs": [],
   "source": [
    "# create connection\n",
    "cnx,err = connect_to_mysql(myuser=\"root\", mypasswd=os.getenv(\"MYSQL_PWD\")) "
   ]
  },
  {
   "cell_type": "code",
   "execution_count": 7,
   "id": "14bc2575",
   "metadata": {},
   "outputs": [
    {
     "name": "stdout",
     "output_type": "stream",
     "text": [
      "    i1     c1\n",
      "0    1      a\n",
      "1    2      b\n",
      "2    2  IpTcH\n",
      "3    7  OqzKu\n",
      "4   10  eJQbY\n",
      "5    9  ttcnW\n",
      "6   10  PrgrJ\n",
      "7   10  xvoeY\n",
      "8    5  TgVDA\n",
      "9   10  ftIKo\n",
      "10   9  hSxSs\n"
     ]
    }
   ],
   "source": [
    "df,err = do_query(cnx, \"select * from t1;\")\n",
    "print(df)\n",
    "if err != 0:\n",
    "    print(\"ERROR:\",err)"
   ]
  },
  {
   "cell_type": "code",
   "execution_count": 8,
   "id": "d09b15d1",
   "metadata": {},
   "outputs": [
    {
     "name": "stdout",
     "output_type": "stream",
     "text": [
      "  Tables_in_testdb\n",
      "0               t1\n",
      "1               t2\n"
     ]
    }
   ],
   "source": [
    "# example using do_query() function\n",
    "df,err = do_query(cnx, \"show tables;\")\n",
    "print(df)\n",
    "if err != 0:\n",
    "    print(\"ERROR:\",err)"
   ]
  },
  {
   "cell_type": "code",
   "execution_count": 9,
   "id": "bf95729e",
   "metadata": {},
   "outputs": [
    {
     "name": "stdout",
     "output_type": "stream",
     "text": [
      "1050 (42S01): Table 't2' already exists\n",
      "ERROR: 1050 (42S01): Table 't2' already exists\n"
     ]
    }
   ],
   "source": [
    "sql = \"\"\"\n",
    "create table t2 (\n",
    "  a int null,\n",
    "  b int null,\n",
    "  c varchar(40) null\n",
    ");\n",
    "\"\"\"\n",
    "err = do_sql(cnx, sql)\n",
    "if err != 0:\n",
    "    print(\"ERROR:\",err)"
   ]
  },
  {
   "cell_type": "code",
   "execution_count": 10,
   "id": "972e9d00",
   "metadata": {},
   "outputs": [],
   "source": [
    "# function to generate random string\n",
    "import string\n",
    "from random import choices, randint"
   ]
  },
  {
   "cell_type": "code",
   "execution_count": 11,
   "id": "bb01aca8",
   "metadata": {},
   "outputs": [],
   "source": [
    "def rstr(mylen=5):\n",
    "    return ''.join(choices(string.ascii_letters,k=mylen))"
   ]
  },
  {
   "cell_type": "code",
   "execution_count": 12,
   "id": "acce5d9c",
   "metadata": {},
   "outputs": [],
   "source": [
    "# example using do_sql() function\n",
    "ri = randint(0,10)\n",
    "rs = rstr() # random string\n",
    "err = do_sql(cnx, f\"insert into t1 values({ri},'{rs}');\")\n",
    "if err != 0:\n",
    "    print(\"ERROR:\",err)"
   ]
  },
  {
   "cell_type": "code",
   "execution_count": 13,
   "id": "524c658f",
   "metadata": {},
   "outputs": [
    {
     "name": "stdout",
     "output_type": "stream",
     "text": [
      "    i1     c1\n",
      "0    1      a\n",
      "1    2      b\n",
      "2    2  IpTcH\n",
      "3    7  OqzKu\n",
      "4   10  eJQbY\n",
      "5    9  ttcnW\n",
      "6   10  PrgrJ\n",
      "7   10  xvoeY\n",
      "8    5  TgVDA\n",
      "9   10  ftIKo\n",
      "10   9  hSxSs\n",
      "11   0  DZYeP\n"
     ]
    }
   ],
   "source": [
    "# example using do_query() function\n",
    "df,err = do_query(cnx, \"select * from t1 where c1 != 'cc';\")\n",
    "print(df)\n",
    "if err != 0:\n",
    "    print(\"ERROR:\",err)"
   ]
  },
  {
   "cell_type": "code",
   "execution_count": 14,
   "id": "2ff177d2",
   "metadata": {},
   "outputs": [
    {
     "name": "stdout",
     "output_type": "stream",
     "text": [
      "not exists, need to create table and insert data\n"
     ]
    }
   ],
   "source": [
    "# Question\n",
    "# Given table with two columns: name and salary\n",
    "# Make a query to return name of someone who has 3rd largest salary\n",
    "# Note: if largest salaries are 100,100,100,100,90,90,90,90,80,80,80,80,...\n",
    "# it should return someone with salary = 80\n",
    "\n",
    "# todo:\n",
    "#   if table \"emp_salary\" does not exist:\n",
    "#      create it and populate with data\n",
    "#  run query to return name and salary for the 3rd largest salary value\n",
    "\n",
    "pass\n",
    "\n",
    "sql = \"\"\"\n",
    "show tables where Tables_in_testdb='emp_salary';\n",
    "\"\"\"\n",
    "df,err = do_query(cnx, sql)\n",
    "if len(df) >=1:\n",
    "    print(\"exists\")\n",
    "else:\n",
    "    print(\"not exists, need to create table and insert data\")\n",
    "    pass # create and insert\n",
    "\n"
   ]
  },
  {
   "cell_type": "markdown",
   "id": "bcc737d4",
   "metadata": {},
   "source": [
    "##  SQL Interview Question"
   ]
  },
  {
   "cell_type": "markdown",
   "id": "fe119e3e",
   "metadata": {},
   "source": [
    "### Setup + Creating Tables"
   ]
  },
  {
   "cell_type": "markdown",
   "id": "045ed235",
   "metadata": {},
   "source": [
    "First, we will need to set up the environment of the SQL coding exercise. To do this, we will create three tables: \n",
    "- Worker\n",
    "- Bonus\n",
    "- Title\n",
    "\n",
    "Once created, we will insert sample data into each table so we have something to work with. Let's get started!"
   ]
  },
  {
   "cell_type": "markdown",
   "id": "d71ffe27",
   "metadata": {},
   "source": [
    "Define function to connect to ORG Database."
   ]
  },
  {
   "cell_type": "code",
   "execution_count": 15,
   "id": "6a437ab1",
   "metadata": {},
   "outputs": [],
   "source": [
    "def connect_to_mysql(myuser=None, mypasswd=None):\n",
    "    \"\"\"\n",
    "    # connects to hard-coded MySQL database\n",
    "    # returns tuple (cnx, err_code)\n",
    "    # where \n",
    "    #     cnx - connection object \n",
    "    #     err_code = 0 on success, something else on error\n",
    "    \"\"\"\n",
    "    try:\n",
    "        cnx = connection.connect(\n",
    "            host=\"localhost\", \n",
    "            database = 'ORG',\n",
    "            user='root', \n",
    "            passwd=mysql_pwd,\n",
    "            use_pure=True)\n",
    "        return cnx, 0\n",
    "    except Exception as e:\n",
    "        print(str(e))\n",
    "        return None, str(e)"
   ]
  },
  {
   "cell_type": "markdown",
   "id": "084ad76b",
   "metadata": {},
   "source": [
    "Connect to Database."
   ]
  },
  {
   "cell_type": "code",
   "execution_count": 16,
   "id": "c0f1be78",
   "metadata": {},
   "outputs": [],
   "source": [
    "cnx,err = connect_to_mysql(myuser=\"root\", mypasswd=os.getenv(\"MYSQL_PWD\"))"
   ]
  },
  {
   "cell_type": "markdown",
   "id": "7ce6fa74",
   "metadata": {},
   "source": [
    "Define Function to do queries."
   ]
  },
  {
   "cell_type": "code",
   "execution_count": 17,
   "id": "d78750ae",
   "metadata": {},
   "outputs": [],
   "source": [
    "def do_query(sql, db='ORG', user=\"root\", mypassword=mysql_pwd):\n",
    "    \"\"\"Function takes sql query and returns Query\n",
    "    By default, it connects to ORg database for root user\"\"\"\n",
    "    try:\n",
    "        cnx = connection.connect(\n",
    "            host     = \"localhost\", \n",
    "            database = db,\n",
    "            user     = user, \n",
    "            passwd   = mypassword,\n",
    "            use_pure = True)\n",
    "    \n",
    "        df = pd.read_sql(sql, cnx)\n",
    "   \n",
    "        print(df)\n",
    "\n",
    "    except Exception as e:\n",
    "        print(str(e))\n",
    "        print(pd.DataFrame(), str(e))"
   ]
  },
  {
   "cell_type": "markdown",
   "id": "cd6a508d",
   "metadata": {},
   "source": [
    "Import necessary modules."
   ]
  },
  {
   "cell_type": "code",
   "execution_count": 18,
   "id": "7cd79b5e",
   "metadata": {},
   "outputs": [],
   "source": [
    "import mysql.connector as connection\n",
    "import pandas as pd"
   ]
  },
  {
   "cell_type": "markdown",
   "id": "8e90ae56",
   "metadata": {},
   "source": [
    "Check if Database ORG has been created."
   ]
  },
  {
   "cell_type": "code",
   "execution_count": 19,
   "id": "bd2d0190",
   "metadata": {},
   "outputs": [
    {
     "name": "stdout",
     "output_type": "stream",
     "text": [
      "             Database\n",
      "0  information_schema\n",
      "1          mydatabase\n",
      "2               mysql\n",
      "3                 ORG\n",
      "4  performance_schema\n",
      "5                 sys\n",
      "6              testdb\n"
     ]
    }
   ],
   "source": [
    "mysql_pwd = os.getenv('MYSQL_PWD')\n",
    "mysql_conn = None # connection\n",
    "try:\n",
    "    cnx = connection.connect(\n",
    "        host     = \"localhost\", \n",
    "        database = 'ORG',\n",
    "        user     = \"root\", \n",
    "        passwd   = mysql_pwd,\n",
    "        use_pure = True)\n",
    "\n",
    "    sql = \"show databases;\"\n",
    "    \n",
    "    df = pd.read_sql(sql, cnx)\n",
    "\n",
    "    \n",
    "    print(df)\n",
    "\n",
    "except Exception as e:\n",
    "    cnx.close()\n",
    "    print(str(e))"
   ]
  },
  {
   "cell_type": "markdown",
   "id": "1d1cdb3f",
   "metadata": {},
   "source": [
    "Check for Tables:\n",
    "(None should exist yet)"
   ]
  },
  {
   "cell_type": "code",
   "execution_count": 20,
   "id": "f9175d97",
   "metadata": {},
   "outputs": [
    {
     "name": "stdout",
     "output_type": "stream",
     "text": [
      "('Bonus',)\n",
      "('Title',)\n",
      "('Worker',)\n"
     ]
    }
   ],
   "source": [
    "mydb = connection.connect(\n",
    "  host=\"localhost\",\n",
    "  user=\"root\",\n",
    "  password=mysql_pwd,\n",
    "  database=\"ORG\"\n",
    ")\n",
    "\n",
    "cursor = mydb.cursor()\n",
    "cursor.execute(\"SHOW TABLES\")\n",
    "\n",
    "for table_name in cursor:\n",
    "   print(table_name)"
   ]
  },
  {
   "cell_type": "markdown",
   "id": "8d9bface",
   "metadata": {},
   "source": [
    "If tables exist already, we'll drop them here:"
   ]
  },
  {
   "cell_type": "code",
   "execution_count": 25,
   "id": "b4050288",
   "metadata": {},
   "outputs": [],
   "source": [
    "mydb = connection.connect(\n",
    "  host=\"localhost\",\n",
    "  user=\"root\",\n",
    "  password=mysql_pwd,\n",
    "  database=\"ORG\"\n",
    ")\n",
    "\n",
    "cursor = mydb.cursor()\n",
    "cursor.execute(\"DROP TABLES IF EXISTS WORKER, BONUS, TITLE\")\n",
    "\n",
    "for table_name in cursor:\n",
    "   print(table_name)"
   ]
  },
  {
   "cell_type": "markdown",
   "id": "9467d6f8",
   "metadata": {},
   "source": [
    "Now, there should really be no tables."
   ]
  },
  {
   "cell_type": "code",
   "execution_count": 26,
   "id": "43319a08",
   "metadata": {},
   "outputs": [],
   "source": [
    "mydb = connection.connect(\n",
    "  host=\"localhost\",\n",
    "  user=\"root\",\n",
    "  password=mysql_pwd,\n",
    "  database=\"ORG\"\n",
    ")\n",
    "\n",
    "cursor = mydb.cursor()\n",
    "cursor.execute(\"SHOW TABLES\")\n",
    "\n",
    "for table_name in cursor:\n",
    "   print(table_name)"
   ]
  },
  {
   "cell_type": "code",
   "execution_count": 27,
   "id": "16281483",
   "metadata": {},
   "outputs": [],
   "source": [
    "# create table worker\n",
    "\n",
    "mydb = connection.connect(\n",
    "  host=\"localhost\",\n",
    "  user=\"root\",\n",
    "  password=mysql_pwd,\n",
    "  database=\"ORG\"\n",
    ")\n",
    "\n",
    "mycursor = mydb.cursor()\n",
    "\n",
    "mycursor.execute(\"\"\"CREATE TABLE Worker \n",
    "                 (WORKER_ID INT PRIMARY KEY AUTO_INCREMENT,\n",
    "                 FIRST_NAME CHAR(25),\n",
    "                 LAST_NAME CHAR(25),\n",
    "                 SALARY INT(15),\n",
    "                 JOINING_DATE DATETIME,\n",
    "                 DEPARTMENT CHAR(25))\"\"\")"
   ]
  },
  {
   "cell_type": "code",
   "execution_count": 28,
   "id": "65f834d8",
   "metadata": {},
   "outputs": [
    {
     "name": "stdout",
     "output_type": "stream",
     "text": [
      "8 record inserted.\n"
     ]
    }
   ],
   "source": [
    "#Insert into Workers table\n",
    "\n",
    "try:\n",
    "    cnx = connection.connect(\n",
    "        host     = \"localhost\", \n",
    "        database = 'ORG',\n",
    "        user     = \"root\", \n",
    "        passwd   = mysql_pwd,\n",
    "        use_pure = True)\n",
    "    \n",
    "    mycursor = cnx.cursor()\n",
    "\n",
    "    sql = \"INSERT INTO worker (WORKER_ID, FIRST_NAME, LAST_NAME, SALARY, JOINING_DATE, DEPARTMENT) VALUES (%s, %s, %s, %s, %s, %s)\"\n",
    "    val = [\n",
    "        (1, \"Monica\", \"Arora\", 100000, \"14-02-20 09.00.00\", \"HR\"),\n",
    "        (2, 'Niharika', 'Verma', 80000, '14-06-11 09.00.00', 'Admin'),\n",
    "        (3, 'Vishal', 'Singhal', 300000, '14-02-20 09.00.00', 'HR'),\n",
    "        (4, 'Amitabh', 'Singh', 500000, '14-02-20 09.00.00', '    Admin'),\n",
    "        (5, 'Vivek', 'Bhati', 500000, '14-06-11 09.00.00', 'Admin'),\n",
    "        (6, 'Vipul', 'Diwan', 200000, '14-06-11 09.00.00', '    Account'),\n",
    "        (7, 'Satish', 'Kumar', 75000, '14-01-20 09.00.00', 'Account'),\n",
    "        (8, 'Geetika', 'Chauhan', 90000, '14-04-11 09.00.00', 'Admin')\n",
    "]\n",
    "    mycursor.executemany(sql, val)\n",
    "\n",
    "    cnx.commit()\n",
    "\n",
    "    print(mycursor.rowcount, \"record inserted.\")\n",
    "\n",
    "\n",
    "except Exception as e:\n",
    "    cnx.close()\n",
    "    print(str(e))"
   ]
  },
  {
   "cell_type": "code",
   "execution_count": 29,
   "id": "17432939",
   "metadata": {},
   "outputs": [
    {
     "name": "stdout",
     "output_type": "stream",
     "text": [
      "   WORKER_ID FIRST_NAME LAST_NAME  SALARY        JOINING_DATE   DEPARTMENT\n",
      "0          1     Monica     Arora  100000 2014-02-20 09:00:00           HR\n",
      "1          2   Niharika     Verma   80000 2014-06-11 09:00:00        Admin\n",
      "2          3     Vishal   Singhal  300000 2014-02-20 09:00:00           HR\n",
      "3          4    Amitabh     Singh  500000 2014-02-20 09:00:00        Admin\n",
      "4          5      Vivek     Bhati  500000 2014-06-11 09:00:00        Admin\n",
      "5          6      Vipul     Diwan  200000 2014-06-11 09:00:00      Account\n",
      "6          7     Satish     Kumar   75000 2014-01-20 09:00:00      Account\n",
      "7          8    Geetika   Chauhan   90000 2014-04-11 09:00:00        Admin\n"
     ]
    }
   ],
   "source": [
    "# Select from Workers table\n",
    "\n",
    "try:\n",
    "    cnx = connection.connect(\n",
    "        host     = \"localhost\", \n",
    "        database = 'ORG',\n",
    "        user     = \"root\", \n",
    "        passwd   = mysql_pwd,\n",
    "        use_pure = True)\n",
    "    \n",
    "    sql = \"SELECT * FROM Worker\"\n",
    "    df = pd.read_sql(sql, cnx)\n",
    "   \n",
    "    print(df)\n",
    "\n",
    "except Exception as e:\n",
    "        print(str(e))\n",
    "        print(pd.DataFrame(), str(e))"
   ]
  },
  {
   "cell_type": "code",
   "execution_count": 30,
   "id": "da2cb600",
   "metadata": {},
   "outputs": [
    {
     "data": {
      "text/plain": [
       "0"
      ]
     },
     "execution_count": 30,
     "metadata": {},
     "output_type": "execute_result"
    }
   ],
   "source": [
    "#create table Bonus\n",
    "query = \"\"\"CREATE TABLE Bonus \n",
    "                 (WORKER_REF_ID INT,\n",
    "                 BONUS_AMOUNT INT(10),\n",
    "                 BONUS_DATE DATETIME,\n",
    "                 FOREIGN KEY (WORKER_REF_ID)\n",
    "                    REFERENCES Worker(WORKER_ID)\n",
    "                    ON DELETE CASCADE);\"\"\"\n",
    "do_sql(cnx=cnx, sql=query)"
   ]
  },
  {
   "cell_type": "code",
   "execution_count": 31,
   "id": "cc3e7194",
   "metadata": {},
   "outputs": [
    {
     "name": "stdout",
     "output_type": "stream",
     "text": [
      "5 record inserted.\n"
     ]
    }
   ],
   "source": [
    "#Insert into Bonus table\n",
    "\n",
    "try:\n",
    "    cnx = connection.connect(\n",
    "        host     = \"localhost\", \n",
    "        database = 'ORG',\n",
    "        user     = \"root\", \n",
    "        passwd   = mysql_pwd,\n",
    "        use_pure = True)\n",
    "    \n",
    "    mycursor = cnx.cursor()\n",
    "\n",
    "    sql = \"INSERT INTO bonus (WORKER_REF_ID, BONUS_AMOUNT, BONUS_DATE) VALUES (%s, %s, %s)\"\n",
    "    val = [\n",
    "        (1, 5000, '16-02-20'),\n",
    "        (2, 3000, '16-06-11'),\n",
    "        (3, 4000, '16-02-20'),\n",
    "        (1, 4500, '16-02-20'),\n",
    "        (2, 3500, '16-06-11')\n",
    "\n",
    "]\n",
    "    mycursor.executemany(sql, val)\n",
    "\n",
    "    cnx.commit()\n",
    "\n",
    "    print(mycursor.rowcount, \"record inserted.\")\n",
    "\n",
    "\n",
    "except Exception as e:\n",
    "    cnx.close()\n",
    "    print(str(e))"
   ]
  },
  {
   "cell_type": "code",
   "execution_count": 32,
   "id": "bd66d254",
   "metadata": {},
   "outputs": [
    {
     "name": "stdout",
     "output_type": "stream",
     "text": [
      "   WORKER_REF_ID  BONUS_AMOUNT BONUS_DATE\n",
      "0              1          5000 2016-02-20\n",
      "1              2          3000 2016-06-11\n",
      "2              3          4000 2016-02-20\n",
      "3              1          4500 2016-02-20\n",
      "4              2          3500 2016-06-11\n"
     ]
    }
   ],
   "source": [
    "# Select from Bonus table\n",
    "\n",
    "try:\n",
    "    cnx = connection.connect(\n",
    "        host     = \"localhost\", \n",
    "        database = 'ORG',\n",
    "        user     = \"root\", \n",
    "        passwd   = mysql_pwd,\n",
    "        use_pure = True)\n",
    "    \n",
    "    sql = \"SELECT * FROM Bonus\"\n",
    "    df = pd.read_sql(sql, cnx)\n",
    "   \n",
    "    print(df)\n",
    "\n",
    "except Exception as e:\n",
    "        print(str(e))\n",
    "        print(pd.DataFrame(), str(e))"
   ]
  },
  {
   "cell_type": "code",
   "execution_count": 33,
   "id": "2102821d",
   "metadata": {},
   "outputs": [
    {
     "data": {
      "text/plain": [
       "0"
      ]
     },
     "execution_count": 33,
     "metadata": {},
     "output_type": "execute_result"
    }
   ],
   "source": [
    "# create title table\n",
    "query = \"\"\"CREATE TABLE Title (\n",
    "                WORKER_REF_ID INT,\n",
    "                WORKER_TITLE CHAR(25),\n",
    "                AFFECTED_FROM DATETIME,\n",
    "                FOREIGN KEY (WORKER_REF_ID)\n",
    "                    REFERENCES Worker(WORKER_ID)\n",
    "                    ON DELETE CASCADE);\n",
    "        \"\"\"\n",
    "do_sql(cnx=cnx, sql=query)"
   ]
  },
  {
   "cell_type": "code",
   "execution_count": 34,
   "id": "3e688222",
   "metadata": {},
   "outputs": [
    {
     "name": "stdout",
     "output_type": "stream",
     "text": [
      "8 record inserted.\n"
     ]
    }
   ],
   "source": [
    "# insert into title table\n",
    "\n",
    "try:\n",
    "    cnx = connection.connect(\n",
    "        host     = \"localhost\", \n",
    "        database = 'ORG',\n",
    "        user     = \"root\", \n",
    "        passwd   = mysql_pwd,\n",
    "        use_pure = True)\n",
    "    \n",
    "    mycursor = cnx.cursor()\n",
    "\n",
    "    sql = \"INSERT INTO Title (WORKER_REF_ID, WORKER_TITLE, AFFECTED_FROM) VALUES (%s, %s, %s)\"\n",
    "    val = [\n",
    "            (1, 'Manager', '2016-02-20 00:00:00'),\n",
    "            (2, 'Executive', '2016-06-11 00:00:00'),\n",
    "            (8, 'Executive', '2016-06-11 00:00:00'),\n",
    "            (5, 'Manager', '2016-06-11 00:00:00'),\n",
    "            (4, 'Asst. Manager', '2016-06-11 00:00:00'),\n",
    "            (7, 'Executive', '2016-06-11 00:00:00'),\n",
    "            (6, 'Lead', '2016-06-11 00:00:00'),\n",
    "            (3, 'Lead', '2016-06-11 00:00:00')\n",
    "           ]\n",
    "    mycursor.executemany(sql, val)\n",
    "\n",
    "    cnx.commit()\n",
    "\n",
    "    print(mycursor.rowcount, \"record inserted.\")\n",
    "\n",
    "\n",
    "except Exception as e:\n",
    "    cnx.close()\n",
    "    print(str(e))"
   ]
  },
  {
   "cell_type": "code",
   "execution_count": 35,
   "id": "48cb5ec5",
   "metadata": {},
   "outputs": [
    {
     "name": "stdout",
     "output_type": "stream",
     "text": [
      "   WORKER_REF_ID   WORKER_TITLE AFFECTED_FROM\n",
      "0              1        Manager    2016-02-20\n",
      "1              2      Executive    2016-06-11\n",
      "2              8      Executive    2016-06-11\n",
      "3              5        Manager    2016-06-11\n",
      "4              4  Asst. Manager    2016-06-11\n",
      "5              7      Executive    2016-06-11\n",
      "6              6           Lead    2016-06-11\n",
      "7              3           Lead    2016-06-11\n"
     ]
    }
   ],
   "source": [
    "# Select from Title table\n",
    "\n",
    "try:\n",
    "    cnx = connection.connect(\n",
    "        host     = \"localhost\", \n",
    "        database = 'ORG',\n",
    "        user     = \"root\", \n",
    "        passwd   = mysql_pwd,\n",
    "        use_pure = True)\n",
    "    \n",
    "    sql = \"SELECT * FROM Title\"\n",
    "    df = pd.read_sql(sql, cnx)\n",
    "   \n",
    "    print(df)\n",
    "\n",
    "except Exception as e:\n",
    "        print(str(e))\n",
    "        print(pd.DataFrame(), str(e))"
   ]
  },
  {
   "cell_type": "code",
   "execution_count": 36,
   "id": "a7a08c67",
   "metadata": {},
   "outputs": [
    {
     "name": "stdout",
     "output_type": "stream",
     "text": [
      "('Bonus',)\n",
      "('Title',)\n",
      "('Worker',)\n"
     ]
    }
   ],
   "source": [
    "mydb = mysql.connector.connect(\n",
    "  host=\"localhost\",\n",
    "  user=\"root\",\n",
    "  password=mysql_pwd,\n",
    "  database=\"ORG\"\n",
    ")\n",
    "\n",
    "cursor = mydb.cursor()\n",
    "cursor.execute(\"SHOW TABLES\")\n",
    "\n",
    "for table_name in cursor:\n",
    "   print(table_name)"
   ]
  },
  {
   "cell_type": "markdown",
   "id": "075bc89b",
   "metadata": {},
   "source": [
    "# QUESTIONS"
   ]
  },
  {
   "cell_type": "markdown",
   "id": "a0442001",
   "metadata": {},
   "source": [
    "We'll start with the basics and ad on to this over time."
   ]
  },
  {
   "attachments": {},
   "cell_type": "markdown",
   "id": "ceb4aa4d",
   "metadata": {},
   "source": [
    "### 1. Write a Query to fetch the first name from the worker table using a fitting alias!"
   ]
  },
  {
   "cell_type": "code",
   "execution_count": 37,
   "id": "748272d6",
   "metadata": {},
   "outputs": [
    {
     "name": "stdout",
     "output_type": "stream",
     "text": [
      "      FNAME\n",
      "0    Monica\n",
      "1  Niharika\n",
      "2    Vishal\n",
      "3   Amitabh\n",
      "4     Vivek\n",
      "5     Vipul\n",
      "6    Satish\n",
      "7   Geetika\n"
     ]
    }
   ],
   "source": [
    "cnx, error = connect_to_mysql(myuser=\"root\", mypasswd=os.getenv(\"MYSQL_PWD\"))\n",
    "sql = \"SELECT FIRST_NAME AS FNAME FROM Worker\"\n",
    "do_query(sql=sql)"
   ]
  },
  {
   "cell_type": "markdown",
   "id": "cb27ae9f",
   "metadata": {},
   "source": [
    "### 2. Write a Query to fetch the first name, but only in upper cases!"
   ]
  },
  {
   "cell_type": "code",
   "execution_count": 38,
   "id": "a12038cb",
   "metadata": {},
   "outputs": [
    {
     "name": "stdout",
     "output_type": "stream",
     "text": [
      "  UPPER(FIRST_NAME)\n",
      "0            MONICA\n",
      "1          NIHARIKA\n",
      "2            VISHAL\n",
      "3           AMITABH\n",
      "4             VIVEK\n",
      "5             VIPUL\n",
      "6            SATISH\n",
      "7           GEETIKA\n"
     ]
    }
   ],
   "source": [
    "cnx, error = connect_to_mysql(myuser=\"root\", mypasswd=os.getenv(\"MYSQL_PWD\"))\n",
    "sql = \"SELECT UPPER(FIRST_NAME) FROM Worker\"\n",
    "do_query(sql=sql)"
   ]
  },
  {
   "attachments": {},
   "cell_type": "markdown",
   "id": "fd2911e0",
   "metadata": {},
   "source": [
    "### 3. Write a query to fetch unique values from the department column!"
   ]
  },
  {
   "cell_type": "code",
   "execution_count": 39,
   "id": "b09804b2",
   "metadata": {},
   "outputs": [
    {
     "name": "stdout",
     "output_type": "stream",
     "text": [
      "    Department\n",
      "0           HR\n",
      "1        Admin\n",
      "2        Admin\n",
      "3      Account\n",
      "4      Account\n"
     ]
    }
   ],
   "source": [
    "cnx, error = connect_to_mysql(myuser=\"root\", mypasswd=os.getenv(\"MYSQL_PWD\"))\n",
    "sql = \"SELECT Distinct(Department) FROM Worker\"\n",
    "do_query(sql=sql)"
   ]
  },
  {
   "cell_type": "markdown",
   "id": "5a2ef505",
   "metadata": {},
   "source": [
    "### 4. Write a Query that fetches the first three letters from the First_Name column."
   ]
  },
  {
   "cell_type": "code",
   "execution_count": 40,
   "id": "f4235e25",
   "metadata": {},
   "outputs": [
    {
     "name": "stdout",
     "output_type": "stream",
     "text": [
      "  Left(First_Name, 3)\n",
      "0                 Mon\n",
      "1                 Nih\n",
      "2                 Vis\n",
      "3                 Ami\n",
      "4                 Viv\n",
      "5                 Vip\n",
      "6                 Sat\n",
      "7                 Gee\n"
     ]
    }
   ],
   "source": [
    "cnx, error = connect_to_mysql(myuser=\"root\", mypasswd=os.getenv(\"MYSQL_PWD\"))\n",
    "sql = \"SELECT Left(First_Name, 3) FROM Worker\"\n",
    "do_query(sql=sql)"
   ]
  },
  {
   "cell_type": "markdown",
   "id": "682b26bd",
   "metadata": {},
   "source": [
    "### 5. Write a Query that returns the position of the letter 'a' in the column first_name."
   ]
  },
  {
   "cell_type": "code",
   "execution_count": 41,
   "id": "f30598cc",
   "metadata": {},
   "outputs": [
    {
     "name": "stdout",
     "output_type": "stream",
     "text": [
      "   Position\n",
      "0         6\n",
      "1         4\n",
      "2         5\n",
      "3         1\n",
      "4         0\n",
      "5         0\n",
      "6         2\n",
      "7         7\n"
     ]
    }
   ],
   "source": [
    "cnx, error = connect_to_mysql(myuser=\"root\", mypasswd=os.getenv(\"MYSQL_PWD\"))\n",
    "sql = \"SELECT Position('a' in FIRST_NAME) As Position FROM WORKER\"\n",
    "do_query(sql=sql)"
   ]
  },
  {
   "attachments": {},
   "cell_type": "markdown",
   "id": "db03cc0b",
   "metadata": {},
   "source": [
    "### 6. Write a query that prints the first_name with all the trailing white space removed!"
   ]
  },
  {
   "cell_type": "code",
   "execution_count": 42,
   "id": "dab28664",
   "metadata": {},
   "outputs": [
    {
     "name": "stdout",
     "output_type": "stream",
     "text": [
      "  REMOVEDSPACE\n",
      "0       Monica\n",
      "1     Niharika\n",
      "2       Vishal\n",
      "3      Amitabh\n",
      "4        Vivek\n",
      "5        Vipul\n",
      "6       Satish\n",
      "7      Geetika\n"
     ]
    }
   ],
   "source": [
    "cnx, error = connect_to_mysql(myuser=\"root\", mypasswd=os.getenv(\"MYSQL_PWD\"))\n",
    "sql = \"SELECT TRIM(TRAILING \" \" FROM FIRST_NAME) AS REMOVEDSPACE FROM WORKER\"\n",
    "do_query(sql=sql)"
   ]
  },
  {
   "attachments": {},
   "cell_type": "markdown",
   "id": "4f2b901d",
   "metadata": {},
   "source": [
    "### 7.\tWrite a query returning department after removing all the white space from the left side!"
   ]
  },
  {
   "cell_type": "code",
   "execution_count": 43,
   "id": "6d92cdca",
   "metadata": {},
   "outputs": [
    {
     "name": "stdout",
     "output_type": "stream",
     "text": [
      "  REMOVEDSPACE\n",
      "0           HR\n",
      "1        Admin\n",
      "2           HR\n",
      "3        Admin\n",
      "4        Admin\n",
      "5      Account\n",
      "6      Account\n",
      "7        Admin\n"
     ]
    }
   ],
   "source": [
    "cnx, error = connect_to_mysql(myuser=\"root\", mypasswd=os.getenv(\"MYSQL_PWD\"))\n",
    "sql = \"SELECT TRIM(LEADING \" \" FROM DEPARTMENT) AS REMOVEDSPACE FROM WORKER\"\n",
    "do_query(sql=sql)"
   ]
  },
  {
   "cell_type": "code",
   "execution_count": null,
   "id": "bdcd98a0",
   "metadata": {},
   "outputs": [],
   "source": []
  }
 ],
 "metadata": {
  "kernelspec": {
   "display_name": "Python 3 (ipykernel)",
   "language": "python",
   "name": "python3"
  },
  "language_info": {
   "codemirror_mode": {
    "name": "ipython",
    "version": 3
   },
   "file_extension": ".py",
   "mimetype": "text/x-python",
   "name": "python",
   "nbconvert_exporter": "python",
   "pygments_lexer": "ipython3",
   "version": "3.9.7"
  }
 },
 "nbformat": 4,
 "nbformat_minor": 5
}
