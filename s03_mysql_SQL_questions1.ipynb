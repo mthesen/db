{
 "cells": [
  {
   "cell_type": "markdown",
   "id": "7fb78ff4",
   "metadata": {},
   "source": [
    "### SQL Interview Questions\n",
    "\n",
    "using MySQL and Python"
   ]
  },
  {
   "cell_type": "markdown",
   "id": "35ceeda8",
   "metadata": {},
   "source": [
    "Installing mysql on mac is easy.\n",
    "\n",
    " - https://dev.mysql.com/doc/refman/5.7/en/macos-installation-pkg.html\n",
    " - https://dev.mysql.com/downloads/mysql/\n",
    "\n",
    "You download Intel-based dmg installer (mysql-8.0.28-macos11-x86_64.dmg)\n",
    "and follow instructions.\n",
    "\n",
    "Note:\n",
    "  About new Mac with M1 chip and python.\n",
    "  As of this writing in January 2022 I recommend to use Intel-based installers.\n",
    "  Native (to ARM M1 chip) version of python has appeared in July of 2021.\n",
    "  But it is still too new, many modules are not supported yet. \n",
    "  Even today if you look at the official anaconda download page,\n",
    "  there is no support for ARM.\n",
    "\n",
    "Note:\n",
    "<br>You will be asked to create root password during the installation.\n",
    "<br>Or you can do it from terminal: \n",
    "``` code\n",
    "mysqladmin -u root password YOURNEWPASSWORD\n",
    "```\n",
    "\n",
    "Add the root password into config file in your home directory:\n",
    "\n",
    "```\n",
    "vi ~/.my.cnf\n",
    "\n",
    "[mysql]\n",
    "user=root\n",
    "password=YOURNEWPASSWORD\n",
    "```\n",
    "\n",
    "save - and change permissions:\n",
    "```\n",
    "chmod 0600 .my.cnf\n",
    "```\n",
    "\n",
    "edit .bashrc - add path to mysql executables like this:\n",
    "\n",
    "```\n",
    "PATH=$PATH:/usr/local/mysql/bin\n",
    "```\n",
    "\n",
    "Restart terminal.\n",
    "Now you can start mysql prompt with \"mysql\" command\n",
    "\n",
    "Once on mysql prompt, you can start working with SQL:\n",
    "\n",
    "```\n",
    "show databases;\n",
    "create database testdb;\n",
    "use testdb;\n",
    "create table t1 ( i1 int null, c1 varchar(80) null );\n",
    "show tables;\n",
    "insert into t1 values (1,'a');\n",
    "insert into t1 values (2,'b');\n",
    "select * from t1;\n",
    "exit\n",
    "```"
   ]
  },
  {
   "cell_type": "markdown",
   "id": "09dd7b3b",
   "metadata": {},
   "source": [
    "To work with mysql from python - look at this python file:\n",
    "\n",
    "https://github.com/lselector/setup_computer/blob/master/py_lib/myutil_mysql.py\n",
    "\n",
    "```\n",
    "pip install mysql-connector-python\n",
    "```"
   ]
  },
  {
   "cell_type": "code",
   "execution_count": 1,
   "id": "3c8cfd9e",
   "metadata": {},
   "outputs": [
    {
     "name": "stdout",
     "output_type": "stream",
     "text": [
      "     .\n",
      "     /Users/maltethesenvitz/Documents/GitHub/db\n",
      "     /Users/maltethesenvitz/Documents/GitHub/db\n",
      "     /Users/maltethesenvitz/docs/py_lib\n",
      "     /Users/maltethesenvitz/anaconda3/lib/python39.zip\n",
      "     /Users/maltethesenvitz/anaconda3/lib/python3.9\n",
      "     /Users/maltethesenvitz/anaconda3/lib/python3.9/lib-dynload\n",
      "     \n",
      "     /Users/maltethesenvitz/anaconda3/lib/python3.9/site-packages\n",
      "     /Users/maltethesenvitz/anaconda3/lib/python3.9/site-packages/aeosa\n",
      "     /Users/maltethesenvitz/anaconda3/lib/python3.9/site-packages/locket-0.2.1-py3.9.egg\n",
      "     /Users/maltethesenvitz/anaconda3/lib/python3.9/site-packages/IPython/extensions\n",
      "     /Users/maltethesenvitz/.ipython\n"
     ]
    }
   ],
   "source": [
    "import os, sys\n",
    "\n",
    "# add current directory to search path\n",
    "if \".\" not in sys.path:\n",
    "    sys.path = [\".\"] + sys.path\n",
    "\n",
    "for p in sys.path:\n",
    "    print(\"    \", p)"
   ]
  },
  {
   "cell_type": "code",
   "execution_count": 2,
   "id": "fef2b9f1",
   "metadata": {},
   "outputs": [
    {
     "name": "stdout",
     "output_type": "stream",
     "text": [
      "   i1     c1\n",
      "0   1      a\n",
      "1   2      b\n",
      "2   2  IpTcH\n",
      "3   7  OqzKu\n",
      "4  10  eJQbY\n"
     ]
    }
   ],
   "source": [
    "import mysql.connector as connection\n",
    "import pandas as pd\n",
    "\n",
    "mysql_pwd = os.getenv('MYSQL_PWD')\n",
    "mysql_conn = None # connection\n",
    "try:\n",
    "    cnx = connection.connect(\n",
    "        host     = \"localhost\", \n",
    "        database = 'testdb',\n",
    "        user     = \"root\", \n",
    "        passwd   = mysql_pwd,\n",
    "        use_pure = True)\n",
    "\n",
    "    sql = \"select * from t1;\"\n",
    "    \n",
    "    df = pd.read_sql(sql, cnx)\n",
    "\n",
    "    print(df)\n",
    "\n",
    "except Exception as e:\n",
    "    cnx.close()\n",
    "    print(str(e))"
   ]
  },
  {
   "cell_type": "code",
   "execution_count": 3,
   "id": "3fc0a89a",
   "metadata": {},
   "outputs": [
    {
     "name": "stdout",
     "output_type": "stream",
     "text": [
      "<mysql.connector.connection.MySQLConnection object at 0x7fb04a654670>\n"
     ]
    }
   ],
   "source": [
    "print(cnx)"
   ]
  },
  {
   "cell_type": "code",
   "execution_count": 4,
   "id": "ccfe6329",
   "metadata": {},
   "outputs": [
    {
     "data": {
      "text/plain": [
       "['__builtins__',\n",
       " '__cached__',\n",
       " '__doc__',\n",
       " '__file__',\n",
       " '__loader__',\n",
       " '__name__',\n",
       " '__package__',\n",
       " '__spec__',\n",
       " 'connect_to_mysql',\n",
       " 'dbquote',\n",
       " 'do_query',\n",
       " 'do_sql',\n",
       " 'dt',\n",
       " 'mysql',\n",
       " 'np',\n",
       " 'os',\n",
       " 'pd',\n",
       " 're',\n",
       " 'remove_extra_indents',\n",
       " 'sys',\n",
       " 'time']"
      ]
     },
     "execution_count": 4,
     "metadata": {},
     "output_type": "execute_result"
    }
   ],
   "source": [
    "import myutil_mysql\n",
    "from myutil_mysql import *\n",
    "dir(myutil_mysql)"
   ]
  },
  {
   "cell_type": "code",
   "execution_count": 5,
   "id": "e153774c",
   "metadata": {},
   "outputs": [],
   "source": [
    "# functions in myutil_mysql\n",
    "# remove_extra_indents(sql) \n",
    "#    - returns SQL string without extra indents on the left\n",
    "# dbquote(form, val)\n",
    "#    - convenience function to format your value \n",
    "#      \"val\" into a string with quotes\n",
    "# connect_to_mysql(myuser=None, mypasswd) \n",
    "#    - connects to the database\n",
    "#    - returns tuple (cnx, 0) \n",
    "# do_query(cnx, sql) - runs sql query, \n",
    "#    - returns tuple (df, error_code)\n",
    "# do_sql(cnx, sql) - runs sql, returns error code"
   ]
  },
  {
   "cell_type": "code",
   "execution_count": 6,
   "id": "a668dac5",
   "metadata": {},
   "outputs": [],
   "source": [
    "# create connection\n",
    "cnx,err = connect_to_mysql(myuser=\"root\", mypasswd=os.getenv(\"MYSQL_PWD\")) "
   ]
  },
  {
   "cell_type": "code",
   "execution_count": 7,
   "id": "14bc2575",
   "metadata": {},
   "outputs": [
    {
     "name": "stdout",
     "output_type": "stream",
     "text": [
      "   i1     c1\n",
      "0   1      a\n",
      "1   2      b\n",
      "2   2  IpTcH\n",
      "3   7  OqzKu\n",
      "4  10  eJQbY\n"
     ]
    }
   ],
   "source": [
    "df,err = do_query(cnx, \"select * from t1;\")\n",
    "print(df)\n",
    "if err != 0:\n",
    "    print(\"ERROR:\",err)"
   ]
  },
  {
   "cell_type": "code",
   "execution_count": 8,
   "id": "d09b15d1",
   "metadata": {},
   "outputs": [
    {
     "name": "stdout",
     "output_type": "stream",
     "text": [
      "  Tables_in_testdb\n",
      "0               t1\n",
      "1               t2\n"
     ]
    }
   ],
   "source": [
    "# example using do_query() function\n",
    "df,err = do_query(cnx, \"show tables;\")\n",
    "print(df)\n",
    "if err != 0:\n",
    "    print(\"ERROR:\",err)"
   ]
  },
  {
   "cell_type": "code",
   "execution_count": 9,
   "id": "bf95729e",
   "metadata": {},
   "outputs": [
    {
     "name": "stdout",
     "output_type": "stream",
     "text": [
      "1050 (42S01): Table 't2' already exists\n",
      "ERROR: 1050 (42S01): Table 't2' already exists\n"
     ]
    }
   ],
   "source": [
    "sql = \"\"\"\n",
    "create table t2 (\n",
    "  a int null,\n",
    "  b int null,\n",
    "  c varchar(40) null\n",
    ");\n",
    "\"\"\"\n",
    "err = do_sql(cnx, sql)\n",
    "if err != 0:\n",
    "    print(\"ERROR:\",err)"
   ]
  },
  {
   "cell_type": "code",
   "execution_count": 10,
   "id": "972e9d00",
   "metadata": {},
   "outputs": [],
   "source": [
    "# function to generate random string\n",
    "import string\n",
    "from random import choices, randint"
   ]
  },
  {
   "cell_type": "code",
   "execution_count": 11,
   "id": "bb01aca8",
   "metadata": {},
   "outputs": [],
   "source": [
    "def rstr(mylen=5):\n",
    "    return ''.join(choices(string.ascii_letters,k=mylen))"
   ]
  },
  {
   "cell_type": "code",
   "execution_count": 12,
   "id": "acce5d9c",
   "metadata": {},
   "outputs": [],
   "source": [
    "# example using do_sql() function\n",
    "ri = randint(0,10)\n",
    "rs = rstr() # random string\n",
    "err = do_sql(cnx, f\"insert into t1 values({ri},'{rs}');\")\n",
    "if err != 0:\n",
    "    print(\"ERROR:\",err)"
   ]
  },
  {
   "cell_type": "code",
   "execution_count": 13,
   "id": "524c658f",
   "metadata": {},
   "outputs": [
    {
     "name": "stdout",
     "output_type": "stream",
     "text": [
      "   i1     c1\n",
      "0   1      a\n",
      "1   2      b\n",
      "2   2  IpTcH\n",
      "3   7  OqzKu\n",
      "4  10  eJQbY\n",
      "5   9  ttcnW\n"
     ]
    }
   ],
   "source": [
    "# example using do_query() function\n",
    "df,err = do_query(cnx, \"select * from t1 where c1 != 'cc';\")\n",
    "print(df)\n",
    "if err != 0:\n",
    "    print(\"ERROR:\",err)"
   ]
  },
  {
   "cell_type": "code",
   "execution_count": 14,
   "id": "2ff177d2",
   "metadata": {},
   "outputs": [
    {
     "name": "stdout",
     "output_type": "stream",
     "text": [
      "not exists, need to create table and insert data\n"
     ]
    }
   ],
   "source": [
    "# Question\n",
    "# Given table with two columns: name and salary\n",
    "# Make a query to return name of someone who has 3rd largest salary\n",
    "# Note: if largest salaries are 100,100,100,100,90,90,90,90,80,80,80,80,...\n",
    "# it should return someone with salary = 80\n",
    "\n",
    "# todo:\n",
    "#   if table \"emp_salary\" does not exist:\n",
    "#      create it and populate with data\n",
    "#  run query to return name and salary for the 3rd largest salary value\n",
    "\n",
    "pass\n",
    "\n",
    "sql = \"\"\"\n",
    "show tables where Tables_in_testdb='emp_salary';\n",
    "\"\"\"\n",
    "df,err = do_query(cnx, sql)\n",
    "if len(df) >=1:\n",
    "    print(\"exists\")\n",
    "else:\n",
    "    print(\"not exists, need to create table and insert data\")\n",
    "    pass # create and insert\n",
    "\n"
   ]
  },
  {
   "cell_type": "markdown",
   "id": "bcc737d4",
   "metadata": {},
   "source": [
    "##  SQL Interview Question"
   ]
  },
  {
   "cell_type": "markdown",
   "id": "fe119e3e",
   "metadata": {},
   "source": [
    "### Setup + Creating Tables"
   ]
  },
  {
   "cell_type": "code",
   "execution_count": 15,
   "id": "bd2d0190",
   "metadata": {},
   "outputs": [
    {
     "name": "stdout",
     "output_type": "stream",
     "text": [
      "             Database\n",
      "0  information_schema\n",
      "1          mydatabase\n",
      "2               mysql\n",
      "3                 ORG\n",
      "4  performance_schema\n",
      "5                 sys\n",
      "6              testdb\n"
     ]
    }
   ],
   "source": [
    "# Check if Database ORG has been created\n",
    "\n",
    "import mysql.connector as connection\n",
    "import pandas as pd\n",
    "\n",
    "mysql_pwd = os.getenv('MYSQL_PWD')\n",
    "mysql_conn = None # connection\n",
    "try:\n",
    "    cnx = connection.connect(\n",
    "        host     = \"localhost\", \n",
    "        database = 'ORG',\n",
    "        user     = \"root\", \n",
    "        passwd   = mysql_pwd,\n",
    "        use_pure = True)\n",
    "\n",
    "    sql = \"show databases;\"\n",
    "    \n",
    "    df = pd.read_sql(sql, cnx)\n",
    "\n",
    "    \n",
    "    print(df)\n",
    "\n",
    "except Exception as e:\n",
    "    cnx.close()\n",
    "    print(str(e))"
   ]
  },
  {
   "cell_type": "code",
   "execution_count": 20,
   "id": "f9175d97",
   "metadata": {},
   "outputs": [],
   "source": [
    "import mysql.connector\n",
    "\n",
    "mydb = mysql.connector.connect(\n",
    "  host=\"localhost\",\n",
    "  user=\"root\",\n",
    "  password=mysql_pwd,\n",
    "  database=\"ORG\"\n",
    ")\n",
    "\n",
    "cursor = mydb.cursor()\n",
    "cursor.execute(\"SHOW TABLES\")\n",
    "\n",
    "for table_name in cursor:\n",
    "   print(table_name)"
   ]
  },
  {
   "cell_type": "code",
   "execution_count": 22,
   "id": "b4050288",
   "metadata": {},
   "outputs": [],
   "source": [
    "# drop table worker\n",
    "# mydb = mysql.connector.connect(\n",
    "#   host=\"localhost\",\n",
    "#   user=\"root\",\n",
    "#   password=mysql_pwd,\n",
    "#   database=\"ORG\"\n",
    "# )\n",
    "\n",
    "# mycursor = mydb.cursor()\n",
    "\n",
    "# sql = \"DROP TABLE Worker;\"\n",
    "\n",
    "# mycursor.execute(sql)"
   ]
  },
  {
   "cell_type": "code",
   "execution_count": 23,
   "id": "16281483",
   "metadata": {},
   "outputs": [],
   "source": [
    "# create table worker\n",
    "\n",
    "mydb = mysql.connector.connect(\n",
    "  host=\"localhost\",\n",
    "  user=\"root\",\n",
    "  password=mysql_pwd,\n",
    "  database=\"ORG\"\n",
    ")\n",
    "\n",
    "mycursor = mydb.cursor()\n",
    "\n",
    "mycursor.execute(\"\"\"CREATE TABLE Worker \n",
    "                 (WORKER_ID INT PRIMARY KEY AUTO_INCREMENT,\n",
    "                 FIRST_NAME CHAR(25),\n",
    "                 LAST_NAME CHAR(25),\n",
    "                 SALARY INT(15),\n",
    "                 JOINING_DATE DATETIME,\n",
    "                 DEPARTMENT CHAR(25))\"\"\")"
   ]
  },
  {
   "cell_type": "code",
   "execution_count": 24,
   "id": "65f834d8",
   "metadata": {},
   "outputs": [
    {
     "name": "stdout",
     "output_type": "stream",
     "text": [
      "8 record inserted.\n"
     ]
    }
   ],
   "source": [
    "#Insert into Workers table\n",
    "\n",
    "try:\n",
    "    cnx = connection.connect(\n",
    "        host     = \"localhost\", \n",
    "        database = 'ORG',\n",
    "        user     = \"root\", \n",
    "        passwd   = mysql_pwd,\n",
    "        use_pure = True)\n",
    "    \n",
    "    mycursor = cnx.cursor()\n",
    "\n",
    "    sql = \"INSERT INTO worker (WORKER_ID, FIRST_NAME, LAST_NAME, SALARY, JOINING_DATE, DEPARTMENT) VALUES (%s, %s, %s, %s, %s, %s)\"\n",
    "    val = [\n",
    "        (1, \"Monica\", \"Arora\", 100000, \"14-02-20 09.00.00\", \"HR\"),\n",
    "        (2, 'Niharika', 'Verma', 80000, '14-06-11 09.00.00', 'Admin'),\n",
    "        (3, 'Vishal', 'Singhal', 300000, '14-02-20 09.00.00', 'HR'),\n",
    "        (4, 'Amitabh', 'Singh', 500000, '14-02-20 09.00.00', 'Admin'),\n",
    "        (5, 'Vivek', 'Bhati', 500000, '14-06-11 09.00.00', 'Admin'),\n",
    "        (6, 'Vipul', 'Diwan', 200000, '14-06-11 09.00.00', 'Account'),\n",
    "        (7, 'Satish', 'Kumar', 75000, '14-01-20 09.00.00', 'Account'),\n",
    "        (8, 'Geetika', 'Chauhan', 90000, '14-04-11 09.00.00', 'Admin')\n",
    "]\n",
    "    mycursor.executemany(sql, val)\n",
    "\n",
    "    cnx.commit()\n",
    "\n",
    "    print(mycursor.rowcount, \"record inserted.\")\n",
    "\n",
    "\n",
    "except Exception as e:\n",
    "    cnx.close()\n",
    "    print(str(e))"
   ]
  },
  {
   "cell_type": "code",
   "execution_count": 25,
   "id": "17432939",
   "metadata": {},
   "outputs": [
    {
     "name": "stdout",
     "output_type": "stream",
     "text": [
      "   WORKER_ID FIRST_NAME LAST_NAME  SALARY        JOINING_DATE DEPARTMENT\n",
      "0          1     Monica     Arora  100000 2014-02-20 09:00:00         HR\n",
      "1          2   Niharika     Verma   80000 2014-06-11 09:00:00      Admin\n",
      "2          3     Vishal   Singhal  300000 2014-02-20 09:00:00         HR\n",
      "3          4    Amitabh     Singh  500000 2014-02-20 09:00:00      Admin\n",
      "4          5      Vivek     Bhati  500000 2014-06-11 09:00:00      Admin\n",
      "5          6      Vipul     Diwan  200000 2014-06-11 09:00:00    Account\n",
      "6          7     Satish     Kumar   75000 2014-01-20 09:00:00    Account\n",
      "7          8    Geetika   Chauhan   90000 2014-04-11 09:00:00      Admin\n"
     ]
    }
   ],
   "source": [
    "# Select from Workers table\n",
    "\n",
    "try:\n",
    "    cnx = connection.connect(\n",
    "        host     = \"localhost\", \n",
    "        database = 'ORG',\n",
    "        user     = \"root\", \n",
    "        passwd   = mysql_pwd,\n",
    "        use_pure = True)\n",
    "    \n",
    "    sql = \"SELECT * FROM WORKER\"\n",
    "    df = pd.read_sql(sql, cnx)\n",
    "   \n",
    "    print(df)\n",
    "\n",
    "except Exception as e:\n",
    "        print(str(e))\n",
    "        print(pd.DataFrame(), str(e))"
   ]
  },
  {
   "cell_type": "code",
   "execution_count": 37,
   "id": "bc74bd9f",
   "metadata": {},
   "outputs": [
    {
     "data": {
      "text/html": [
       "<div>\n",
       "<style scoped>\n",
       "    .dataframe tbody tr th:only-of-type {\n",
       "        vertical-align: middle;\n",
       "    }\n",
       "\n",
       "    .dataframe tbody tr th {\n",
       "        vertical-align: top;\n",
       "    }\n",
       "\n",
       "    .dataframe thead th {\n",
       "        text-align: right;\n",
       "    }\n",
       "</style>\n",
       "<table border=\"1\" class=\"dataframe\">\n",
       "  <thead>\n",
       "    <tr style=\"text-align: right;\">\n",
       "      <th></th>\n",
       "      <th>WORKER_ID</th>\n",
       "      <th>FIRST_NAME</th>\n",
       "      <th>LAST_NAME</th>\n",
       "      <th>SALARY</th>\n",
       "      <th>JOINING_DATE</th>\n",
       "      <th>DEPARTMENT</th>\n",
       "    </tr>\n",
       "  </thead>\n",
       "  <tbody>\n",
       "    <tr>\n",
       "      <th>0</th>\n",
       "      <td>1</td>\n",
       "      <td>Monica</td>\n",
       "      <td>Arora</td>\n",
       "      <td>100000</td>\n",
       "      <td>2014-02-20 09:00:00</td>\n",
       "      <td>HR</td>\n",
       "    </tr>\n",
       "    <tr>\n",
       "      <th>1</th>\n",
       "      <td>2</td>\n",
       "      <td>Niharika</td>\n",
       "      <td>Verma</td>\n",
       "      <td>80000</td>\n",
       "      <td>2014-06-11 09:00:00</td>\n",
       "      <td>Admin</td>\n",
       "    </tr>\n",
       "    <tr>\n",
       "      <th>2</th>\n",
       "      <td>3</td>\n",
       "      <td>Vishal</td>\n",
       "      <td>Singhal</td>\n",
       "      <td>300000</td>\n",
       "      <td>2014-02-20 09:00:00</td>\n",
       "      <td>HR</td>\n",
       "    </tr>\n",
       "    <tr>\n",
       "      <th>3</th>\n",
       "      <td>4</td>\n",
       "      <td>Amitabh</td>\n",
       "      <td>Singh</td>\n",
       "      <td>500000</td>\n",
       "      <td>2014-02-20 09:00:00</td>\n",
       "      <td>Admin</td>\n",
       "    </tr>\n",
       "    <tr>\n",
       "      <th>4</th>\n",
       "      <td>5</td>\n",
       "      <td>Vivek</td>\n",
       "      <td>Bhati</td>\n",
       "      <td>500000</td>\n",
       "      <td>2014-06-11 09:00:00</td>\n",
       "      <td>Admin</td>\n",
       "    </tr>\n",
       "    <tr>\n",
       "      <th>5</th>\n",
       "      <td>6</td>\n",
       "      <td>Vipul</td>\n",
       "      <td>Diwan</td>\n",
       "      <td>200000</td>\n",
       "      <td>2014-06-11 09:00:00</td>\n",
       "      <td>Account</td>\n",
       "    </tr>\n",
       "    <tr>\n",
       "      <th>6</th>\n",
       "      <td>7</td>\n",
       "      <td>Satish</td>\n",
       "      <td>Kumar</td>\n",
       "      <td>75000</td>\n",
       "      <td>2014-01-20 09:00:00</td>\n",
       "      <td>Account</td>\n",
       "    </tr>\n",
       "    <tr>\n",
       "      <th>7</th>\n",
       "      <td>8</td>\n",
       "      <td>Geetika</td>\n",
       "      <td>Chauhan</td>\n",
       "      <td>90000</td>\n",
       "      <td>2014-04-11 09:00:00</td>\n",
       "      <td>Admin</td>\n",
       "    </tr>\n",
       "  </tbody>\n",
       "</table>\n",
       "</div>"
      ],
      "text/plain": [
       "   WORKER_ID FIRST_NAME LAST_NAME  SALARY        JOINING_DATE DEPARTMENT\n",
       "0          1     Monica     Arora  100000 2014-02-20 09:00:00         HR\n",
       "1          2   Niharika     Verma   80000 2014-06-11 09:00:00      Admin\n",
       "2          3     Vishal   Singhal  300000 2014-02-20 09:00:00         HR\n",
       "3          4    Amitabh     Singh  500000 2014-02-20 09:00:00      Admin\n",
       "4          5      Vivek     Bhati  500000 2014-06-11 09:00:00      Admin\n",
       "5          6      Vipul     Diwan  200000 2014-06-11 09:00:00    Account\n",
       "6          7     Satish     Kumar   75000 2014-01-20 09:00:00    Account\n",
       "7          8    Geetika   Chauhan   90000 2014-04-11 09:00:00      Admin"
      ]
     },
     "execution_count": 37,
     "metadata": {},
     "output_type": "execute_result"
    }
   ],
   "source": [
    "df"
   ]
  },
  {
   "cell_type": "code",
   "execution_count": 40,
   "id": "2722922d",
   "metadata": {},
   "outputs": [],
   "source": [
    "def connect_to_mysql(myuser=None, mypasswd=None):\n",
    "    \"\"\"\n",
    "    # connects to hard-coded MySQL database\n",
    "    # returns tuple (cnx, err_code)\n",
    "    # where \n",
    "    #     cnx - connection object \n",
    "    #     err_code = 0 on success, something else on error\n",
    "    \"\"\"\n",
    "    try:\n",
    "        cnx = mysql.connector.connect(\n",
    "            host=\"localhost\", \n",
    "            database = 'ORG',\n",
    "            user='root', \n",
    "            passwd=mysql_pwd,\n",
    "            use_pure=True)\n",
    "        return cnx, 0\n",
    "    except Exception as e:\n",
    "        print(str(e))\n",
    "        return None, str(e)"
   ]
  },
  {
   "cell_type": "code",
   "execution_count": 43,
   "id": "abbf24ef",
   "metadata": {},
   "outputs": [],
   "source": [
    "cnx,err = connect_to_mysql(myuser=\"root\", mypasswd=os.getenv(\"MYSQL_PWD\"))"
   ]
  },
  {
   "cell_type": "code",
   "execution_count": 44,
   "id": "da2cb600",
   "metadata": {},
   "outputs": [
    {
     "ename": "KeyboardInterrupt",
     "evalue": "",
     "output_type": "error",
     "traceback": [
      "\u001b[0;31m---------------------------------------------------------------------------\u001b[0m",
      "\u001b[0;31mKeyboardInterrupt\u001b[0m                         Traceback (most recent call last)",
      "\u001b[0;32m/var/folders/08/sc222h6s7dg03x93jckxlg7r0000gn/T/ipykernel_67992/1233281022.py\u001b[0m in \u001b[0;36m<module>\u001b[0;34m\u001b[0m\n\u001b[1;32m      6\u001b[0m                  \u001b[0mREFERENCES\u001b[0m \u001b[0mWorker\u001b[0m\u001b[0;34m(\u001b[0m\u001b[0mWORKER_ID\u001b[0m\u001b[0;34m)\u001b[0m\u001b[0;34m\u001b[0m\u001b[0;34m\u001b[0m\u001b[0m\n\u001b[1;32m      7\u001b[0m                  ON DELETE CASCADE);\"\"\"\n\u001b[0;32m----> 8\u001b[0;31m \u001b[0mdo_sql\u001b[0m\u001b[0;34m(\u001b[0m\u001b[0mcnx\u001b[0m\u001b[0;34m=\u001b[0m\u001b[0mcnx\u001b[0m\u001b[0;34m,\u001b[0m \u001b[0msql\u001b[0m\u001b[0;34m=\u001b[0m\u001b[0mquery\u001b[0m\u001b[0;34m)\u001b[0m\u001b[0;34m\u001b[0m\u001b[0;34m\u001b[0m\u001b[0m\n\u001b[0m",
      "\u001b[0;32m~/Documents/GitHub/db/./myutil_mysql.py\u001b[0m in \u001b[0;36mdo_sql\u001b[0;34m(cnx, sql)\u001b[0m\n\u001b[1;32m    157\u001b[0m     \u001b[0;32mtry\u001b[0m\u001b[0;34m:\u001b[0m\u001b[0;34m\u001b[0m\u001b[0;34m\u001b[0m\u001b[0m\n\u001b[1;32m    158\u001b[0m         \u001b[0mcursor\u001b[0m \u001b[0;34m=\u001b[0m \u001b[0mcnx\u001b[0m\u001b[0;34m.\u001b[0m\u001b[0mcursor\u001b[0m\u001b[0;34m(\u001b[0m\u001b[0;34m)\u001b[0m\u001b[0;34m\u001b[0m\u001b[0;34m\u001b[0m\u001b[0m\n\u001b[0;32m--> 159\u001b[0;31m         \u001b[0mcursor\u001b[0m\u001b[0;34m.\u001b[0m\u001b[0mexecute\u001b[0m\u001b[0;34m(\u001b[0m\u001b[0msql\u001b[0m\u001b[0;34m)\u001b[0m\u001b[0;34m\u001b[0m\u001b[0;34m\u001b[0m\u001b[0m\n\u001b[0m\u001b[1;32m    160\u001b[0m         \u001b[0mcnx\u001b[0m\u001b[0;34m.\u001b[0m\u001b[0mcommit\u001b[0m\u001b[0;34m(\u001b[0m\u001b[0;34m)\u001b[0m\u001b[0;34m\u001b[0m\u001b[0;34m\u001b[0m\u001b[0m\n\u001b[1;32m    161\u001b[0m         \u001b[0mcursor\u001b[0m\u001b[0;34m.\u001b[0m\u001b[0mclose\u001b[0m\u001b[0;34m(\u001b[0m\u001b[0;34m)\u001b[0m\u001b[0;34m\u001b[0m\u001b[0;34m\u001b[0m\u001b[0m\n",
      "\u001b[0;32m~/anaconda3/lib/python3.9/site-packages/mysql/connector/cursor.py\u001b[0m in \u001b[0;36mexecute\u001b[0;34m(self, operation, params, multi)\u001b[0m\n\u001b[1;32m    570\u001b[0m \u001b[0;34m\u001b[0m\u001b[0m\n\u001b[1;32m    571\u001b[0m         \u001b[0;32mtry\u001b[0m\u001b[0;34m:\u001b[0m\u001b[0;34m\u001b[0m\u001b[0;34m\u001b[0m\u001b[0m\n\u001b[0;32m--> 572\u001b[0;31m             \u001b[0mself\u001b[0m\u001b[0;34m.\u001b[0m\u001b[0m_handle_result\u001b[0m\u001b[0;34m(\u001b[0m\u001b[0mself\u001b[0m\u001b[0;34m.\u001b[0m\u001b[0m_connection\u001b[0m\u001b[0;34m.\u001b[0m\u001b[0mcmd_query\u001b[0m\u001b[0;34m(\u001b[0m\u001b[0mstmt\u001b[0m\u001b[0;34m)\u001b[0m\u001b[0;34m)\u001b[0m\u001b[0;34m\u001b[0m\u001b[0;34m\u001b[0m\u001b[0m\n\u001b[0m\u001b[1;32m    573\u001b[0m         \u001b[0;32mexcept\u001b[0m \u001b[0merrors\u001b[0m\u001b[0;34m.\u001b[0m\u001b[0mInterfaceError\u001b[0m\u001b[0;34m:\u001b[0m\u001b[0;34m\u001b[0m\u001b[0;34m\u001b[0m\u001b[0m\n\u001b[1;32m    574\u001b[0m             \u001b[0;32mif\u001b[0m \u001b[0mself\u001b[0m\u001b[0;34m.\u001b[0m\u001b[0m_connection\u001b[0m\u001b[0;34m.\u001b[0m\u001b[0m_have_next_result\u001b[0m\u001b[0;34m:\u001b[0m  \u001b[0;31m# pylint: disable=W0212\u001b[0m\u001b[0;34m\u001b[0m\u001b[0;34m\u001b[0m\u001b[0m\n",
      "\u001b[0;32m~/anaconda3/lib/python3.9/site-packages/mysql/connector/connection.py\u001b[0m in \u001b[0;36mcmd_query\u001b[0;34m(self, query, raw, buffered, raw_as_string)\u001b[0m\n\u001b[1;32m    918\u001b[0m         \u001b[0mquery\u001b[0m \u001b[0;34m=\u001b[0m \u001b[0mbytes\u001b[0m\u001b[0;34m(\u001b[0m\u001b[0mpacket\u001b[0m\u001b[0;34m)\u001b[0m\u001b[0;34m\u001b[0m\u001b[0;34m\u001b[0m\u001b[0m\n\u001b[1;32m    919\u001b[0m         \u001b[0;32mtry\u001b[0m\u001b[0;34m:\u001b[0m\u001b[0;34m\u001b[0m\u001b[0;34m\u001b[0m\u001b[0m\n\u001b[0;32m--> 920\u001b[0;31m             \u001b[0mresult\u001b[0m \u001b[0;34m=\u001b[0m \u001b[0mself\u001b[0m\u001b[0;34m.\u001b[0m\u001b[0m_handle_result\u001b[0m\u001b[0;34m(\u001b[0m\u001b[0mself\u001b[0m\u001b[0;34m.\u001b[0m\u001b[0m_send_cmd\u001b[0m\u001b[0;34m(\u001b[0m\u001b[0mServerCmd\u001b[0m\u001b[0;34m.\u001b[0m\u001b[0mQUERY\u001b[0m\u001b[0;34m,\u001b[0m \u001b[0mquery\u001b[0m\u001b[0;34m)\u001b[0m\u001b[0;34m)\u001b[0m\u001b[0;34m\u001b[0m\u001b[0;34m\u001b[0m\u001b[0m\n\u001b[0m\u001b[1;32m    921\u001b[0m         \u001b[0;32mexcept\u001b[0m \u001b[0merrors\u001b[0m\u001b[0;34m.\u001b[0m\u001b[0mProgrammingError\u001b[0m \u001b[0;32mas\u001b[0m \u001b[0merr\u001b[0m\u001b[0;34m:\u001b[0m\u001b[0;34m\u001b[0m\u001b[0;34m\u001b[0m\u001b[0m\n\u001b[1;32m    922\u001b[0m             \u001b[0;32mif\u001b[0m \u001b[0merr\u001b[0m\u001b[0;34m.\u001b[0m\u001b[0merrno\u001b[0m \u001b[0;34m==\u001b[0m \u001b[0;36m3948\u001b[0m \u001b[0;32mand\u001b[0m\u001b[0;31m \u001b[0m\u001b[0;31m\\\u001b[0m\u001b[0;34m\u001b[0m\u001b[0;34m\u001b[0m\u001b[0m\n",
      "\u001b[0;32m~/anaconda3/lib/python3.9/site-packages/mysql/connector/connection.py\u001b[0m in \u001b[0;36m_send_cmd\u001b[0;34m(self, command, argument, packet_number, packet, expect_response, compressed_packet_number)\u001b[0m\n\u001b[1;32m    573\u001b[0m         \u001b[0;32mif\u001b[0m \u001b[0;32mnot\u001b[0m \u001b[0mexpect_response\u001b[0m\u001b[0;34m:\u001b[0m\u001b[0;34m\u001b[0m\u001b[0;34m\u001b[0m\u001b[0m\n\u001b[1;32m    574\u001b[0m             \u001b[0;32mreturn\u001b[0m \u001b[0;32mNone\u001b[0m\u001b[0;34m\u001b[0m\u001b[0;34m\u001b[0m\u001b[0m\n\u001b[0;32m--> 575\u001b[0;31m         \u001b[0;32mreturn\u001b[0m \u001b[0mself\u001b[0m\u001b[0;34m.\u001b[0m\u001b[0m_socket\u001b[0m\u001b[0;34m.\u001b[0m\u001b[0mrecv\u001b[0m\u001b[0;34m(\u001b[0m\u001b[0;34m)\u001b[0m\u001b[0;34m\u001b[0m\u001b[0;34m\u001b[0m\u001b[0m\n\u001b[0m\u001b[1;32m    576\u001b[0m \u001b[0;34m\u001b[0m\u001b[0m\n\u001b[1;32m    577\u001b[0m     \u001b[0;32mdef\u001b[0m \u001b[0m_send_data\u001b[0m\u001b[0;34m(\u001b[0m\u001b[0mself\u001b[0m\u001b[0;34m,\u001b[0m \u001b[0mdata_file\u001b[0m\u001b[0;34m,\u001b[0m \u001b[0msend_empty_packet\u001b[0m\u001b[0;34m=\u001b[0m\u001b[0;32mFalse\u001b[0m\u001b[0;34m)\u001b[0m\u001b[0;34m:\u001b[0m\u001b[0;34m\u001b[0m\u001b[0;34m\u001b[0m\u001b[0m\n",
      "\u001b[0;32m~/anaconda3/lib/python3.9/site-packages/mysql/connector/network.py\u001b[0m in \u001b[0;36mrecv_plain\u001b[0;34m(self)\u001b[0m\n\u001b[1;32m    244\u001b[0m             \u001b[0mpacket_len\u001b[0m \u001b[0;34m=\u001b[0m \u001b[0;36m0\u001b[0m\u001b[0;34m\u001b[0m\u001b[0;34m\u001b[0m\u001b[0m\n\u001b[1;32m    245\u001b[0m             \u001b[0;32mwhile\u001b[0m \u001b[0mpacket_len\u001b[0m \u001b[0;34m<\u001b[0m \u001b[0;36m4\u001b[0m\u001b[0;34m:\u001b[0m\u001b[0;34m\u001b[0m\u001b[0;34m\u001b[0m\u001b[0m\n\u001b[0;32m--> 246\u001b[0;31m                 \u001b[0mchunk\u001b[0m \u001b[0;34m=\u001b[0m \u001b[0mself\u001b[0m\u001b[0;34m.\u001b[0m\u001b[0msock\u001b[0m\u001b[0;34m.\u001b[0m\u001b[0mrecv\u001b[0m\u001b[0;34m(\u001b[0m\u001b[0;36m4\u001b[0m \u001b[0;34m-\u001b[0m \u001b[0mpacket_len\u001b[0m\u001b[0;34m)\u001b[0m\u001b[0;34m\u001b[0m\u001b[0;34m\u001b[0m\u001b[0m\n\u001b[0m\u001b[1;32m    247\u001b[0m                 \u001b[0;32mif\u001b[0m \u001b[0;32mnot\u001b[0m \u001b[0mchunk\u001b[0m\u001b[0;34m:\u001b[0m\u001b[0;34m\u001b[0m\u001b[0;34m\u001b[0m\u001b[0m\n\u001b[1;32m    248\u001b[0m                     \u001b[0;32mraise\u001b[0m \u001b[0merrors\u001b[0m\u001b[0;34m.\u001b[0m\u001b[0mInterfaceError\u001b[0m\u001b[0;34m(\u001b[0m\u001b[0merrno\u001b[0m\u001b[0;34m=\u001b[0m\u001b[0;36m2013\u001b[0m\u001b[0;34m)\u001b[0m\u001b[0;34m\u001b[0m\u001b[0;34m\u001b[0m\u001b[0m\n",
      "\u001b[0;32m~/anaconda3/lib/python3.9/ssl.py\u001b[0m in \u001b[0;36mrecv\u001b[0;34m(self, buflen, flags)\u001b[0m\n\u001b[1;32m   1224\u001b[0m                     \u001b[0;34m\"non-zero flags not allowed in calls to recv() on %s\"\u001b[0m \u001b[0;34m%\u001b[0m\u001b[0;34m\u001b[0m\u001b[0;34m\u001b[0m\u001b[0m\n\u001b[1;32m   1225\u001b[0m                     self.__class__)\n\u001b[0;32m-> 1226\u001b[0;31m             \u001b[0;32mreturn\u001b[0m \u001b[0mself\u001b[0m\u001b[0;34m.\u001b[0m\u001b[0mread\u001b[0m\u001b[0;34m(\u001b[0m\u001b[0mbuflen\u001b[0m\u001b[0;34m)\u001b[0m\u001b[0;34m\u001b[0m\u001b[0;34m\u001b[0m\u001b[0m\n\u001b[0m\u001b[1;32m   1227\u001b[0m         \u001b[0;32melse\u001b[0m\u001b[0;34m:\u001b[0m\u001b[0;34m\u001b[0m\u001b[0;34m\u001b[0m\u001b[0m\n\u001b[1;32m   1228\u001b[0m             \u001b[0;32mreturn\u001b[0m \u001b[0msuper\u001b[0m\u001b[0;34m(\u001b[0m\u001b[0;34m)\u001b[0m\u001b[0;34m.\u001b[0m\u001b[0mrecv\u001b[0m\u001b[0;34m(\u001b[0m\u001b[0mbuflen\u001b[0m\u001b[0;34m,\u001b[0m \u001b[0mflags\u001b[0m\u001b[0;34m)\u001b[0m\u001b[0;34m\u001b[0m\u001b[0;34m\u001b[0m\u001b[0m\n",
      "\u001b[0;32m~/anaconda3/lib/python3.9/ssl.py\u001b[0m in \u001b[0;36mread\u001b[0;34m(self, len, buffer)\u001b[0m\n\u001b[1;32m   1099\u001b[0m                 \u001b[0;32mreturn\u001b[0m \u001b[0mself\u001b[0m\u001b[0;34m.\u001b[0m\u001b[0m_sslobj\u001b[0m\u001b[0;34m.\u001b[0m\u001b[0mread\u001b[0m\u001b[0;34m(\u001b[0m\u001b[0mlen\u001b[0m\u001b[0;34m,\u001b[0m \u001b[0mbuffer\u001b[0m\u001b[0;34m)\u001b[0m\u001b[0;34m\u001b[0m\u001b[0;34m\u001b[0m\u001b[0m\n\u001b[1;32m   1100\u001b[0m             \u001b[0;32melse\u001b[0m\u001b[0;34m:\u001b[0m\u001b[0;34m\u001b[0m\u001b[0;34m\u001b[0m\u001b[0m\n\u001b[0;32m-> 1101\u001b[0;31m                 \u001b[0;32mreturn\u001b[0m \u001b[0mself\u001b[0m\u001b[0;34m.\u001b[0m\u001b[0m_sslobj\u001b[0m\u001b[0;34m.\u001b[0m\u001b[0mread\u001b[0m\u001b[0;34m(\u001b[0m\u001b[0mlen\u001b[0m\u001b[0;34m)\u001b[0m\u001b[0;34m\u001b[0m\u001b[0;34m\u001b[0m\u001b[0m\n\u001b[0m\u001b[1;32m   1102\u001b[0m         \u001b[0;32mexcept\u001b[0m \u001b[0mSSLError\u001b[0m \u001b[0;32mas\u001b[0m \u001b[0mx\u001b[0m\u001b[0;34m:\u001b[0m\u001b[0;34m\u001b[0m\u001b[0;34m\u001b[0m\u001b[0m\n\u001b[1;32m   1103\u001b[0m             \u001b[0;32mif\u001b[0m \u001b[0mx\u001b[0m\u001b[0;34m.\u001b[0m\u001b[0margs\u001b[0m\u001b[0;34m[\u001b[0m\u001b[0;36m0\u001b[0m\u001b[0;34m]\u001b[0m \u001b[0;34m==\u001b[0m \u001b[0mSSL_ERROR_EOF\u001b[0m \u001b[0;32mand\u001b[0m \u001b[0mself\u001b[0m\u001b[0;34m.\u001b[0m\u001b[0msuppress_ragged_eofs\u001b[0m\u001b[0;34m:\u001b[0m\u001b[0;34m\u001b[0m\u001b[0;34m\u001b[0m\u001b[0m\n",
      "\u001b[0;31mKeyboardInterrupt\u001b[0m: "
     ]
    }
   ],
   "source": [
    "query = \"\"\"CREATE TABLE Bonus \n",
    "                 (WORKER_REF_ID INT,\n",
    "                 BONUS_AMOUNT INT(10),\n",
    "                 BONUS_DATE DATETIME,\n",
    "                 FOREIGN KEY (WORKER_REF_ID)\n",
    "                 REFERENCES Worker(WORKER_ID)\n",
    "                 ON DELETE CASCADE);\"\"\"\n",
    "do_sql(cnx=cnx, sql=query)"
   ]
  },
  {
   "cell_type": "code",
   "execution_count": 38,
   "id": "a7a08c67",
   "metadata": {},
   "outputs": [
    {
     "name": "stdout",
     "output_type": "stream",
     "text": [
      "('Worker',)\n"
     ]
    }
   ],
   "source": [
    "mydb = mysql.connector.connect(\n",
    "  host=\"localhost\",\n",
    "  user=\"root\",\n",
    "  password=mysql_pwd,\n",
    "  database=\"ORG\"\n",
    ")\n",
    "\n",
    "cursor = mydb.cursor()\n",
    "cursor.execute(\"SHOW TABLES\")\n",
    "\n",
    "for table_name in cursor:\n",
    "   print(table_name)"
   ]
  },
  {
   "cell_type": "code",
   "execution_count": null,
   "id": "38adc188",
   "metadata": {},
   "outputs": [],
   "source": []
  }
 ],
 "metadata": {
  "kernelspec": {
   "display_name": "Python 3 (ipykernel)",
   "language": "python",
   "name": "python3"
  },
  "language_info": {
   "codemirror_mode": {
    "name": "ipython",
    "version": 3
   },
   "file_extension": ".py",
   "mimetype": "text/x-python",
   "name": "python",
   "nbconvert_exporter": "python",
   "pygments_lexer": "ipython3",
   "version": "3.9.7"
  }
 },
 "nbformat": 4,
 "nbformat_minor": 5
}
